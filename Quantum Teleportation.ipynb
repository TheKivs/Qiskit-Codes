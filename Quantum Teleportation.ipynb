{
 "cells": [
  {
   "cell_type": "markdown",
   "metadata": {},
   "source": [
    "### Problem set-up"
   ]
  },
  {
   "cell_type": "markdown",
   "metadata": {},
   "source": [
    "Let us teleport the quantum state \n",
    "$$\\sqrt{0.35}\\vert0\\rangle + \\sqrt{0.65}\\vert1\\rangle$$ from Alice's qubit to Bob's qubit. Recall that the teleportation algorithm consists of four major components:\n",
    "\n",
    "1. Initializing the state to be teleported. We will do this on Alice's qubit `q0`.\n",
    "2. Creating entanglement between two qubits. We will use qubits `q1` (Alice's) and `q2` (Bob's) for this.\n",
    "3. Applying a Bell measurement on Alice's qubits `q0` and `q1`.\n",
    "4. Applying classically controlled operations on Bob's qubit `q2` depending on the outcomes of the Bell measurement on Alice's qubits."
   ]
  },
  {
   "cell_type": "markdown",
   "metadata": {},
   "source": [
    "### Initializing the state to be teleported"
   ]
  },
  {
   "cell_type": "code",
   "execution_count": 127,
   "metadata": {},
   "outputs": [],
   "source": [
    "def initialize_qubit(given_circuit, qubit_index):\n",
    "    \n",
    "    import numpy as np    \n",
    "    given_circuit.initialize([np.sqrt(0.70), np.sqrt(0.30)], qubit_index)\n",
    "    \n",
    "    return given_circuit"
   ]
  },
  {
   "cell_type": "markdown",
   "metadata": {},
   "source": [
    "Next, we need to create entanglement between Alice's and Bob's qubits."
   ]
  },
  {
   "cell_type": "code",
   "execution_count": 128,
   "metadata": {},
   "outputs": [],
   "source": [
    "def entangle_qubits(given_circuit, qubit_Alice, qubit_Bob):\n",
    "    \n",
    "    given_circuit.h(qubit_Alice)\n",
    "    given_circuit.cx(qubit_Alice,qubit_Bob)\n",
    "    \n",
    "    return given_circuit"
   ]
  },
  {
   "cell_type": "markdown",
   "metadata": {},
   "source": [
    "Next, we need to do a Bell measurement of Alice's qubits."
   ]
  },
  {
   "cell_type": "code",
   "execution_count": 129,
   "metadata": {},
   "outputs": [],
   "source": [
    "def bell_meas_Alice_qubits(given_circuit, qubit1_Alice, qubit2_Alice, clbit1_Alice, clbit2_Alice):\n",
    "\n",
    "    given_circuit.cx(qubit1_Alice, qubit2_Alice)\n",
    "    given_circuit.h(qubit1_Alice)\n",
    "    given_circuit.barrier()\n",
    "    given_circuit.measure(qubit1_Alice, clbit1_Alice)\n",
    "    given_circuit.measure(qubit2_Alice, clbit2_Alice)\n",
    "\n",
    "    return given_circuit"
   ]
  },
  {
   "cell_type": "markdown",
   "metadata": {},
   "source": [
    "### Bob's job"
   ]
  },
  {
   "cell_type": "markdown",
   "metadata": {},
   "source": [
    "Finally, we apply controlled operations on Bob's qubit. Recall that the controlled operations are applied in this order:\n",
    "\n",
    "- an $X$ gate is applied on Bob's qubit if the measurement coutcome of Alice's second qubit, `clbit2_Alice`, is `1`.\n",
    "- a $Z$ gate is applied on Bob's qubit if the measurement coutcome of Alice's first qubit, `clbit1_Alice`, is `1`."
   ]
  },
  {
   "cell_type": "code",
   "execution_count": 130,
   "metadata": {},
   "outputs": [],
   "source": [
    "def controlled_ops_Bob_qubit(given_circuit, qubit_Bob, clbit1_Alice, clbit2_Alice):\n",
    "\n",
    "    given_circuit.x(qubit_Bob).c_if(clbit2_Alice, 1)\n",
    "    given_circuit.z(qubit_Bob).c_if(clbit1_Alice, 1)    \n",
    "\n",
    "    return given_circuit"
   ]
  },
  {
   "cell_type": "markdown",
   "metadata": {},
   "source": [
    "The next lines of code put everything together."
   ]
  },
  {
   "cell_type": "markdown",
   "metadata": {},
   "source": [
    "### Pipelining"
   ]
  },
  {
   "cell_type": "code",
   "execution_count": 134,
   "metadata": {},
   "outputs": [
    {
     "data": {
      "image/png": "[encoded data removed]",
      "text/plain": [
       "<Figure size 1009.83x325.08 with 1 Axes>"
      ]
     },
     "execution_count": 134,
     "metadata": {},
     "output_type": "execute_result"
    }
   ],
   "source": [
    "### imports\n",
    "from qiskit import QuantumRegister, ClassicalRegister\n",
    "\n",
    "### set up the qubits and classical bits\n",
    "all_qubits_Alice = QuantumRegister(2)\n",
    "all_qubits_Bob = QuantumRegister(1)\n",
    "creg1_Alice = ClassicalRegister(1)\n",
    "creg2_Alice = ClassicalRegister(1)\n",
    "\n",
    "### quantum teleportation circuit here\n",
    "# Initialize\n",
    "mycircuit = QuantumCircuit(all_qubits_Alice, all_qubits_Bob, creg1_Alice, creg2_Alice)\n",
    "initialize_qubit(mycircuit, 0)\n",
    "mycircuit.barrier()\n",
    "# Entangle\n",
    "entangle_qubits(mycircuit, 1, 2)\n",
    "mycircuit.barrier()\n",
    "# Do a Bell measurement\n",
    "bell_meas_Alice_qubits(mycircuit, all_qubits_Alice[0], all_qubits_Alice[1], creg1_Alice, creg2_Alice)\n",
    "mycircuit.barrier()\n",
    "# Apply classically controlled quantum gates\n",
    "controlled_ops_Bob_qubit(mycircuit, all_qubits_Bob[0], creg1_Alice, creg2_Alice)\n",
    "\n",
    "# Look at the complete circuit\n",
    "mycircuit.draw('mpl')"
   ]
  },
  {
   "cell_type": "code",
   "execution_count": null,
   "metadata": {},
   "outputs": [],
   "source": []
  }
 ],
 "metadata": {
  "kernelspec": {
   "display_name": "Python 3",
   "language": "python",
   "name": "python3"
  },
  "language_info": {
   "codemirror_mode": {
    "name": "ipython",
    "version": 3
   },
   "file_extension": ".py",
   "mimetype": "text/x-python",
   "name": "python",
   "nbconvert_exporter": "python",
   "pygments_lexer": "ipython3",
   "version": "3.7.6"
  }
 },
 "nbformat": 4,
 "nbformat_minor": 4
}
